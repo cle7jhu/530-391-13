{
  "nbformat": 4,
  "nbformat_minor": 0,
  "metadata": {
    "colab": {
      "name": "bdms project 4.ipynb",
      "provenance": [],
      "collapsed_sections": [],
      "authorship_tag": "ABX9TyNw2GA8OsxTo9xlU8e7R+HR",
      "include_colab_link": true
    },
    "kernelspec": {
      "name": "python3",
      "display_name": "Python 3"
    }
  },
  "cells": [
    {
      "cell_type": "markdown",
      "metadata": {
        "id": "view-in-github",
        "colab_type": "text"
      },
      "source": [
        "<a href=\"https://colab.research.google.com/github/cle7jhu/530-391-13/blob/master/bdms_project_4.ipynb\" target=\"_parent\"><img src=\"https://colab.research.google.com/assets/colab-badge.svg\" alt=\"Open In Colab\"/></a>"
      ]
    },
    {
      "cell_type": "code",
      "metadata": {
        "id": "koidr4eFLoEg",
        "outputId": "4b2be3c9-a9df-4ab6-c578-9bb4cda17c73",
        "colab": {
          "base_uri": "https://localhost:8080/",
          "height": 408
        }
      },
      "source": [
        "import pandas as pd\n",
        "import numpy as np\n",
        "import matplotlib.pyplot as plt\n",
        "\n",
        "!wget https://raw.githubusercontent.com/tidyverse/ggplot2/master/data-raw/diamonds.csv;\n",
        "!wget https://raw.githubusercontent.com/CSSEGISandData/COVID-19/master/csse_covid_19_data/csse_covid_19_time_series/time_series_covid19_confirmed_global.csv;\n",
        "!ls"
      ],
      "execution_count": 1,
      "outputs": [
        {
          "output_type": "stream",
          "text": [
            "--2020-09-29 22:40:29--  https://raw.githubusercontent.com/tidyverse/ggplot2/master/data-raw/diamonds.csv\n",
            "Resolving raw.githubusercontent.com (raw.githubusercontent.com)... 151.101.0.133, 151.101.64.133, 151.101.128.133, ...\n",
            "Connecting to raw.githubusercontent.com (raw.githubusercontent.com)|151.101.0.133|:443... connected.\n",
            "HTTP request sent, awaiting response... 200 OK\n",
            "Length: 2772143 (2.6M) [text/plain]\n",
            "Saving to: ‘diamonds.csv’\n",
            "\n",
            "diamonds.csv        100%[===================>]   2.64M  10.3MB/s    in 0.3s    \n",
            "\n",
            "2020-09-29 22:40:29 (10.3 MB/s) - ‘diamonds.csv’ saved [2772143/2772143]\n",
            "\n",
            "--2020-09-29 22:40:29--  https://raw.githubusercontent.com/CSSEGISandData/COVID-19/master/csse_covid_19_data/csse_covid_19_time_series/time_series_covid19_confirmed_global.csv\n",
            "Resolving raw.githubusercontent.com (raw.githubusercontent.com)... 151.101.0.133, 151.101.64.133, 151.101.128.133, ...\n",
            "Connecting to raw.githubusercontent.com (raw.githubusercontent.com)|151.101.0.133|:443... connected.\n",
            "HTTP request sent, awaiting response... 200 OK\n",
            "Length: 278865 (272K) [text/plain]\n",
            "Saving to: ‘time_series_covid19_confirmed_global.csv’\n",
            "\n",
            "time_series_covid19 100%[===================>] 272.33K  --.-KB/s    in 0.06s   \n",
            "\n",
            "2020-09-29 22:40:29 (4.51 MB/s) - ‘time_series_covid19_confirmed_global.csv’ saved [278865/278865]\n",
            "\n",
            "diamonds.csv  sample_data  time_series_covid19_confirmed_global.csv\n"
          ],
          "name": "stdout"
        }
      ]
    },
    {
      "cell_type": "code",
      "metadata": {
        "id": "I_LcLvlBOUAu",
        "outputId": "4ae8a2a7-96a2-4da0-974b-d1bc208603a2",
        "colab": {
          "base_uri": "https://localhost:8080/",
          "height": 595
        }
      },
      "source": [
        "#Question 1 just play around with logistic curves\n",
        "B_0 = [-25, 0, 25]\n",
        "B_1 = [1, 10 ,25]\n",
        "x = np.linspace(-50,50,50)\n",
        "plt.figure(figsize=(8, 6))\n",
        "for i in range(len(B_0)):\n",
        "  for j in range(len(B_1)):\n",
        "    y = B_1[j]*x + B_0[i]\n",
        "    plt.plot(x,np.exp(y)/(1+np.exp(y)),label = 'B_0: {} B_1: {}'.format(B_0[i],B_1[j]))\n",
        "\n",
        "plt.legend()"
      ],
      "execution_count": 2,
      "outputs": [
        {
          "output_type": "stream",
          "text": [
            "/usr/local/lib/python3.6/dist-packages/ipykernel_launcher.py:9: RuntimeWarning: overflow encountered in exp\n",
            "  if __name__ == '__main__':\n",
            "/usr/local/lib/python3.6/dist-packages/ipykernel_launcher.py:9: RuntimeWarning: invalid value encountered in true_divide\n",
            "  if __name__ == '__main__':\n",
            "/usr/local/lib/python3.6/dist-packages/ipykernel_launcher.py:9: RuntimeWarning: overflow encountered in exp\n",
            "  if __name__ == '__main__':\n",
            "/usr/local/lib/python3.6/dist-packages/ipykernel_launcher.py:9: RuntimeWarning: invalid value encountered in true_divide\n",
            "  if __name__ == '__main__':\n",
            "/usr/local/lib/python3.6/dist-packages/ipykernel_launcher.py:9: RuntimeWarning: overflow encountered in exp\n",
            "  if __name__ == '__main__':\n",
            "/usr/local/lib/python3.6/dist-packages/ipykernel_launcher.py:9: RuntimeWarning: invalid value encountered in true_divide\n",
            "  if __name__ == '__main__':\n"
          ],
          "name": "stderr"
        },
        {
          "output_type": "execute_result",
          "data": {
            "text/plain": [
              "<matplotlib.legend.Legend at 0x7fa6e5b97cf8>"
            ]
          },
          "metadata": {
            "tags": []
          },
          "execution_count": 2
        },
        {
          "output_type": "display_data",
          "data": {
            "image/png": "[encoded data removed]",
            "text/plain": [
              "<Figure size 576x432 with 1 Axes>"
            ]
          },
          "metadata": {
            "tags": [],
            "needs_background": "light"
          }
        }
      ]
    },
    {
      "cell_type": "code",
      "metadata": {
        "id": "4Q9KRgnOL2oh"
      },
      "source": [
        "\n"
      ],
      "execution_count": 2,
      "outputs": []
    },
    {
      "cell_type": "code",
      "metadata": {
        "id": "JgCUzC8ANZFE",
        "outputId": "0a9c5e64-b360-4af0-96c3-57e4d842188d",
        "colab": {
          "base_uri": "https://localhost:8080/",
          "height": 34
        }
      },
      "source": [
        "# Fit a linear regression of price as a function of color, cut, clarity, carat\n",
        "df = pd.read_csv('diamonds.csv')\n",
        "#Data PreProcessing\n",
        "#convert cut, color, clarity into one hot encoded\n",
        "color_OH = pd.get_dummies(df.color)\n",
        "cut_OH = pd.get_dummies(df.cut)\n",
        "clarity_OH = pd.get_dummies(df.clarity)\n",
        "\n",
        "#split into train and test data\n",
        "N = len(df.carat) #number of samples\n",
        "np.random.seed(seed = 10)\n",
        "order = np.linspace(0,N-1,N,dtype=int)\n",
        "np.random.shuffle(order)\n",
        "idx_train = order[:int(np.round(N*.75))]\n",
        "idx_test = order[int(np.round(N*.75)):]\n",
        "\n",
        "#build features X by horizontal concenating carat and one hot encoded arrays \n",
        "X = np.concatenate((df.carat.to_numpy().reshape((N,1)),color_OH.to_numpy(),cut_OH.to_numpy(),clarity_OH.to_numpy()),axis=1) \n",
        "#split into train and test for X and Y\n",
        "X_train = X[idx_train] \n",
        "X_test = X[idx_test]\n",
        "Y = df.price.to_numpy()\n",
        "Y_train = Y[idx_train]\n",
        "Y_test = Y[idx_test]\n",
        "\n",
        "#Perform Linear Regression on training data\n",
        "from sklearn.linear_model import LinearRegression\n",
        "reg = LinearRegression().fit(X_train, Y_train)\n",
        "\n",
        "# #calculate root of mean squared error from testing data\n",
        "from sklearn.metrics import mean_squared_error\n",
        "Y_pred=reg.predict(X_test)\n",
        "MSE = mean_squared_error(Y_test, Y_pred)\n",
        "print('The root of the mean squared error for this linear regression model is {}'.format(np.sqrt(MSE)))"
      ],
      "execution_count": 3,
      "outputs": [
        {
          "output_type": "stream",
          "text": [
            "The root of the mean squared error for this linear regression model is 1149.989371861707\n"
          ],
          "name": "stdout"
        }
      ]
    },
    {
      "cell_type": "code",
      "metadata": {
        "id": "tVBL84_QHWfb",
        "outputId": "79cfb493-011e-4813-f3c5-671d9ddd3a2c",
        "colab": {
          "base_uri": "https://localhost:8080/",
          "height": 85
        }
      },
      "source": [
        "df = pd.read_csv(\"time_series_covid19_confirmed_global.csv\") #get confirmed cases \n",
        "df = df.drop(['Lat','Long','Province/State'],axis=1) #remove unused headers\n",
        "df = df[df['Country/Region'] == \"Finland\"]\n",
        "ts_df = df.T\n",
        "ts_df.columns = ts_df.iloc[0]\n",
        "ts_df = ts_df.drop('Country/Region')\n",
        "ts_df = ts_df.assign(idx = np.arange(len(ts_df))) #create index column for ease of use\n",
        "day1 = np.nonzero(np.asarray(ts_df['Finland']))[0][0] #find first day \n",
        "ts_df = ts_df.assign(new = ts_df['Finland'].diff()) #create column for new cases\n",
        "ts_df = ts_df.assign(Y = [1 if ts_df['new'].diff()[i] > 0 else 0 for i in range(len(ts_df['new']))]) #defining Y as 1 for an increase in new cases from the previous day\n",
        "\n",
        "#build a logit regression \n",
        "#Partition test and train cases\n",
        "N = len(ts_df['Y'][day1+4:-4]) #number of samples\n",
        "print(N)\n",
        "np.random.seed(seed = 10)\n",
        "order = np.linspace(0,N-5,N-4,dtype=int) #minus the first 4 days since there will be no value for that\n",
        "np.random.shuffle(order)\n",
        "idx_train = order[:int(np.round(N*.75))]\n",
        "idx_test = order[int(np.round(N*.75)):]\n",
        "#Define Y and X matricies for past the first 4 days\n",
        "Y = ts_df['Y'][day1+1:].to_numpy()[3:]\n",
        "y_train = Y[idx_train]\n",
        "y_test = Y[idx_test]\n",
        "new = ts_df['new'][day1+1:].to_numpy().reshape((len(ts_df['new'][day1+1:]),1))\n",
        "X = np.concatenate((new[3:-1], new[2:-2],new[1:-3],new[0:-4] ),axis=1)[3:]\n",
        "X_train = X[idx_train]\n",
        "X_test = X[idx_test]\n",
        "#Perform logistic regression\n",
        "from sklearn.linear_model import LogisticRegression\n",
        "clf = LogisticRegression(random_state=0).fit(X_train, y_train)\n",
        "y_pred = clf.predict(X_test)\n",
        "#calculate accuracy\n",
        "acc = 0.0\n",
        "for i in range(len(y_pred)):\n",
        "  if y_pred[i] == y_test[i]:\n",
        "    acc+=1\n",
        "acc = acc/len(y_pred)\n",
        "print('The country forecasting accuracy for Finland is {}'.format(acc))\n",
        "#Part 2: Train on Germany, apply to Finland\n",
        "\n",
        "#Get Germany data \n",
        "df = pd.read_csv(\"time_series_covid19_confirmed_global.csv\") #get confirmed cases \n",
        "df = df.drop(['Lat','Long','Province/State'],axis=1) #remove unused headers\n",
        "df = df[df['Country/Region'] == \"Germany\"]\n",
        "ger_df = df.T\n",
        "ger_df.columns = ger_df.iloc[0]\n",
        "ger_df = ger_df.drop('Country/Region')\n",
        "ger_df = ger_df.assign(idx = np.arange(len(ger_df))) #create index column for ease of use\n",
        "day1 = np.nonzero(np.asarray(ger_df['Germany']))[0][0] #find first day \n",
        "print(day1)\n",
        "ger_df = ger_df.assign(new = ger_df['Germany'].diff()) #create column for new cases\n",
        "ger_df = ger_df.assign(Y = [1 if ger_df['new'].diff()[i] > 0 else 0 for i in range(len(ger_df['new']))]) #defining Y as 1 for an increase in new cases from the previous day\n",
        "\n",
        "#Define Y and X matricies for past the first 4 days\n",
        "ger_Y = ger_df['Y'][day1+4:-4].to_numpy()\n",
        "new = ger_df['new'][day1+1:].to_numpy().reshape((len(ger_df['Y'][day1+1:]),1))\n",
        "ger_X = np.concatenate((new[3:-1], new[2:-2],new[1:-3],new[0:-4] ),axis=1)[3:]\n",
        "\n",
        "#Train logistic regression using germany data\n",
        "clf = LogisticRegression(random_state=0).fit(ger_X, ger_Y)\n",
        "y_pred2 = clf.predict(X) \n",
        "#calculate accuracy\n",
        "acc = 0.0\n",
        "for i in range(len(y_pred2)):\n",
        "  if y_pred2[i] == Y[i]:\n",
        "    acc+=1\n",
        "acc = acc/len(Y)\n",
        "print('The between country forecasting accuracy for Finland using all of Germanys data is {}'.format(acc))"
      ],
      "execution_count": 16,
      "outputs": [
        {
          "output_type": "stream",
          "text": [
            "240\n",
            "The country forecasting accuracy for Finland is 0.6785714285714286\n",
            "5\n",
            "The between country forecasting accuracy for Finland using all of Germanys data is 0.5541666666666667\n"
          ],
          "name": "stdout"
        }
      ]
    },
    {
      "cell_type": "code",
      "metadata": {
        "id": "kqtN4utLEU_T",
        "outputId": "16d27caa-bee5-4fb6-9c66-8dcb9e6f4bf6",
        "colab": {
          "base_uri": "https://localhost:8080/",
          "height": 374
        }
      },
      "source": [
        "print(ts_df.head(20))"
      ],
      "execution_count": 11,
      "outputs": [
        {
          "output_type": "stream",
          "text": [
            "Country/Region Finland  idx  new  Y\n",
            "1/22/20              0    0  NaN  0\n",
            "1/23/20              0    1    0  0\n",
            "1/24/20              0    2    0  0\n",
            "1/25/20              0    3    0  0\n",
            "1/26/20              0    4    0  0\n",
            "1/27/20              0    5    0  0\n",
            "1/28/20              0    6    0  0\n",
            "1/29/20              1    7    1  1\n",
            "1/30/20              1    8    0  0\n",
            "1/31/20              1    9    0  0\n",
            "2/1/20               1   10    0  0\n",
            "2/2/20               1   11    0  0\n",
            "2/3/20               1   12    0  0\n",
            "2/4/20               1   13    0  0\n",
            "2/5/20               1   14    0  0\n",
            "2/6/20               1   15    0  0\n",
            "2/7/20               1   16    0  0\n",
            "2/8/20               1   17    0  0\n",
            "2/9/20               1   18    0  0\n",
            "2/10/20              1   19    0  0\n"
          ],
          "name": "stdout"
        }
      ]
    }
  ]
}